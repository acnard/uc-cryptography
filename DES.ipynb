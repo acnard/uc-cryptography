{
 "cells": [
  {
   "attachments": {},
   "cell_type": "markdown",
   "metadata": {},
   "source": [
    "# DES Encryption algorithm\n",
    "\n",
    "## parameters\n",
    "block size = 64 bits  \n",
    "key size = 56 bits  \n",
    "number of rounds = 16  \n",
    "subkey generation = ?  \n",
    "round function F = ?  \n",
    "\n",
    "## steps summary\n",
    "\n",
    "1. Initial permutation (using lookup table), shuffles the 64 bits\n",
    "\n",
    "2. Key transformation: \n",
    "    - from original 64bit key discard every eight bit to obtain a 56bit key.\n",
    "    - from this 56bit key, generate 16 different 48-bit subkeys (through compression-permutation), to use during the rounds  \n",
    "\n",
    "2. Split 64 bit plaintext into two halves: LPT and RPT, each 32 bits long\n",
    "\n",
    "3. Round function F(RPTi, Ki), takes as inputs the 32 bit RPT and the subkey, and outputs 32 bits. \n",
    "    - Expansion-permutation of RPT to 48 bits\n",
    "    - XOR the expanded RPT with the subkey Ki  --> result is 48 bits\n",
    "    - Send 48 bits result of XOR to 8 S-boxes: each takes 6 bits as input and outputs 4 bits --> result is 32 bits\n",
    "    \n",
    "4. Final permutation (using lookup table)\n"
   ]
  },
  {
   "cell_type": "code",
   "execution_count": 26,
   "metadata": {},
   "outputs": [
    {
     "name": "stdout",
     "output_type": "stream",
     "text": [
      "['0', '0', '0', '0', '0', '0', '0', '0', '0', '0', '0', '0', '0', '0', '0', '0', '0', '0', '0', '0', '0', '0', '0', '0', '0', '0', '0', '0', '0', '0', '0', '0', '0', '0', '0', '0', '0', '0', '0', '0', '0', '0', '0', '0', '0', '0', '0', '0', '0', '0', '0', '0', '0', '0', '0', '0', '0', '0', '0', '0', '1', '1', '1', '1']\n",
      "15\n"
     ]
    }
   ],
   "source": [
    "## in python, ord(c) will give you the integer value of a single character\n",
    "## and chr(n) will give you the ascii character corresponding to a value\n",
    "#\n",
    "## also hex(n) gives you a string that is the hex representation of an integer, eg hex(256) = \"0xff\"\n",
    "## and bin(n) gives you a string that is the binary representation of it, eg bin(256) = \"0b11111111\"\n",
    "#\n",
    "## to convert a hex string to an int you can use int(hexstring, 16)\n",
    "## eg int(\"FF\", 16) = 255 \n",
    "## also int(\"0xff\", 16) = 255\n",
    "\n",
    "def val_to_binlist(n):\n",
    "    \"\"\"\n",
    "    n is an integer, returns its binary representation as a list of ones and zeros (\"1\" and \"0\")\n",
    "    \"\"\"\n",
    "    binstring = bin(n)[2:]   #slice to strip off leading \"0b\"\n",
    "    binstring = binstring.rjust(64, \"0\")  ## pad it to length of 64\n",
    "    return list(binstring)\n",
    "\n",
    "def binlist_to_val(l):\n",
    "    \"\"\"\n",
    "    l is a list of strings, where each vaue is either \"1\" or \"0\"\n",
    "    returns the value corresponding to this binary number\n",
    "    \"\"\"\n",
    "    b_string = \"\".join(l)\n",
    "    return int(b_string, 2)\n",
    "\n",
    "# call the functions to test them\n",
    "binlist = val_to_binlist(15)\n",
    "print(binlist)\n",
    "\n",
    "val = binlist_to_val(binlist)\n",
    "print(val)"
   ]
  },
  {
   "cell_type": "code",
   "execution_count": null,
   "metadata": {},
   "outputs": [],
   "source": [
    "def permutation(block):\n",
    "    \"\"\"\n",
    "    block is a 64-bit binary number (that is, 8 bytes long)\n",
    "    therefore its integer value must be between 0x00 and 0xffffffffffffffff  (16fs) = 2^64 - 1 \n",
    "    \"\"\"\n",
    "    ## convert the block into a list of 1s and 0s\n",
    "    binlist = val_to_binlist(block)\n",
    "\n",
    "    \n",
    "    # Table of Position of 64 bits at initial level: Initial Permutation Table\n",
    "    initial_perm = [58, 50, 42, 34, 26, 18, 10, 2,\n",
    "                    60, 52, 44, 36, 28, 20, 12, 4,\n",
    "                    62, 54, 46, 38, 30, 22, 14, 6,\n",
    "                    64, 56, 48, 40, 32, 24, 16, 8,\n",
    "                    57, 49, 41, 33, 25, 17, 9, 1,\n",
    "                    59, 51, 43, 35, 27, 19, 11, 3,\n",
    "                    61, 53, 45, 37, 29, 21, 13, 5,\n",
    "                    63, 55, 47, 39, 31, 23, 15, 7]\n",
    "    \n",
    "    "
   ]
  },
  {
   "cell_type": "code",
   "execution_count": 9,
   "metadata": {},
   "outputs": [
    {
     "name": "stdout",
     "output_type": "stream",
     "text": [
      "255\n",
      "0xff\n",
      "0b11111111\n"
     ]
    }
   ],
   "source": [
    "byte = 255\n",
    "print(byte)\n",
    "print(hex(byte))\n",
    "print(bin(255))"
   ]
  },
  {
   "cell_type": "code",
   "execution_count": null,
   "metadata": {},
   "outputs": [],
   "source": []
  }
 ],
 "metadata": {
  "kernelspec": {
   "display_name": "base",
   "language": "python",
   "name": "python3"
  },
  "language_info": {
   "codemirror_mode": {
    "name": "ipython",
    "version": 3
   },
   "file_extension": ".py",
   "mimetype": "text/x-python",
   "name": "python",
   "nbconvert_exporter": "python",
   "pygments_lexer": "ipython3",
   "version": "3.8.12"
  },
  "orig_nbformat": 4
 },
 "nbformat": 4,
 "nbformat_minor": 2
}
