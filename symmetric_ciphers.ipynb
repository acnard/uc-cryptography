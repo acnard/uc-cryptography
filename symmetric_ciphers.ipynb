{
 "cells": [
  {
   "cell_type": "code",
   "execution_count": 16,
   "metadata": {},
   "outputs": [],
   "source": [
    "ALPHABET = \"ABCDEFGHIJKLMNOPQRSTUVWXYZ\""
   ]
  },
  {
   "cell_type": "code",
   "execution_count": 17,
   "metadata": {},
   "outputs": [],
   "source": [
    "## Caesar cypher, cyclically shift each letter by an amount k, specified by the key\n",
    "## c = (p + k)mod 26   to encrypt (right shift)\n",
    "## p = (c - k)mod 26   to decrypt (left shift)\n",
    "## \n",
    "## there are only 26 possible distinct keys (from 0 to 25), this count includes the key that maps\n",
    "## each letter onto itself, with a zero shift\n",
    "def caesar(text, k):\n",
    "    \"\"\"\n",
    "    text is a string, the message to encrypt or decrypt\n",
    "    k is an int, the shift (can be positive or negative)\n",
    "    \"\"\"\n",
    "\n",
    "    text = text.upper()\n",
    "    k = k%26\n",
    "\n",
    "    print(f\"the text is {text}\")\n",
    "    print(f\"the shift is {k}\")\n",
    "\n",
    "    result = \"\"\n",
    "    for c in text:\n",
    "        i = ALPHABET.index(c) + k\n",
    "        i = i%26\n",
    "\n",
    "        result = result + ALPHABET[i]\n",
    "\n",
    "    return result\n"
   ]
  },
  {
   "cell_type": "code",
   "execution_count": 18,
   "metadata": {},
   "outputs": [
    {
     "name": "stdout",
     "output_type": "stream",
     "text": [
      "the text is QNGWFWD\n",
      "the shift is 21\n"
     ]
    },
    {
     "data": {
      "text/plain": [
       "'LIBRARY'"
      ]
     },
     "execution_count": 18,
     "metadata": {},
     "output_type": "execute_result"
    }
   ],
   "source": [
    "caesar(\"QNGWFWD\", -5)"
   ]
  },
  {
   "cell_type": "code",
   "execution_count": 21,
   "metadata": {},
   "outputs": [],
   "source": [
    "## monoalphabetic cypher: key is a permutation of alphabet, eg DKVQFIBJWPESCXHTMYAUOLRGZN \n",
    "## now there are 26! possible keys\n",
    "## but the frequency distribution of english is retained\n",
    "## \n",
    "\n",
    "def monoalphabetic(text, source_KEY=ALPHABET, target_KEY=\"DKVQFIBJWPESCXHTMYAUOLRGZN\"):\n",
    "    \"\"\"\n",
    "    text is a string, the message to encrypt, \n",
    "    sourceKEY and targetKEY are 26-character uppercase strings, permutations of the ALPHABET\n",
    "\n",
    "    to encrypt, sourceKEY= ALPHABET and target_KEY is some permutation it\n",
    "    to decrypt, just reverse the keys\n",
    "    \"\"\"\n",
    "\n",
    "    text = text.upper()\n",
    "    print(f\"the text is {text}\")\n",
    "    print(f\"the key mapping is:\\n{source_KEY}\\n{target_KEY}\")\n",
    "\n",
    "    result = \"\"\n",
    "    for c in text:\n",
    "        i = source_KEY.index(c) \n",
    "\n",
    "        result = result + target_KEY[i]\n",
    "\n",
    "    return result"
   ]
  },
  {
   "cell_type": "code",
   "execution_count": 23,
   "metadata": {},
   "outputs": [
    {
     "name": "stdout",
     "output_type": "stream",
     "text": [
      "the text is HELLO\n",
      "the key mapping is:\n",
      "ABCDEFGHIJKLMNOPQRSTUVWXYZ\n",
      "DKVQFIBJWPESCXHTMYAUOLRGZN\n",
      "the text is JFSSH\n",
      "the key mapping is:\n",
      "DKVQFIBJWPESCXHTMYAUOLRGZN\n",
      "ABCDEFGHIJKLMNOPQRSTUVWXYZ\n"
     ]
    },
    {
     "data": {
      "text/plain": [
       "'HELLO'"
      ]
     },
     "execution_count": 23,
     "metadata": {},
     "output_type": "execute_result"
    }
   ],
   "source": [
    "monoalphabetic(\"hello\")\n",
    "\n",
    "monoalphabetic(\"jfssh\", source_KEY=\"DKVQFIBJWPESCXHTMYAUOLRGZN\", target_KEY=ALPHABET )"
   ]
  },
  {
   "cell_type": "code",
   "execution_count": null,
   "metadata": {},
   "outputs": [],
   "source": [
    "def vigenere(text, KEY):\n",
    "    \"\"\"\n",
    "    text is a string, the message we want to encrypt\n",
    "    \n",
    "    \"\"\""
   ]
  },
  {
   "cell_type": "code",
   "execution_count": 8,
   "metadata": {},
   "outputs": [
    {
     "name": "stdout",
     "output_type": "stream",
     "text": [
      "plaintext letter is A\n",
      "with key= 0, letter becomes A\n",
      "with key= 1, letter becomes D\n",
      "with key= 2, letter becomes G\n",
      "with key= 3, letter becomes J\n",
      "with key= 4, letter becomes M\n",
      "with key= 5, letter becomes P\n",
      "with key= 6, letter becomes S\n",
      "with key= 7, letter becomes V\n",
      "with key= 8, letter becomes Y\n",
      "with key= 9, letter becomes B\n",
      "with key= 10, letter becomes E\n",
      "with key= 11, letter becomes H\n",
      "with key= 12, letter becomes K\n",
      "with key= 13, letter becomes N\n",
      "with key= 14, letter becomes Q\n",
      "with key= 15, letter becomes T\n",
      "with key= 16, letter becomes W\n",
      "with key= 17, letter becomes Z\n",
      "with key= 18, letter becomes C\n",
      "with key= 19, letter becomes F\n",
      "with key= 20, letter becomes I\n",
      "with key= 21, letter becomes L\n",
      "with key= 22, letter becomes O\n",
      "with key= 23, letter becomes R\n",
      "with key= 24, letter becomes U\n",
      "with key= 25, letter becomes X\n",
      "with key= 26, letter becomes A\n",
      "with key= 27, letter becomes D\n",
      "with key= 28, letter becomes G\n",
      "with key= 29, letter becomes J\n",
      "with key= 30, letter becomes M\n",
      "with key= 31, letter becomes P\n",
      "with key= 32, letter becomes S\n",
      "with key= 33, letter becomes V\n",
      "with key= 34, letter becomes Y\n",
      "with key= 35, letter becomes B\n",
      "with key= 36, letter becomes E\n",
      "with key= 37, letter becomes H\n",
      "with key= 38, letter becomes K\n",
      "with key= 39, letter becomes N\n",
      "with key= 40, letter becomes Q\n",
      "with key= 41, letter becomes T\n",
      "with key= 42, letter becomes W\n",
      "with key= 43, letter becomes Z\n",
      "with key= 44, letter becomes C\n",
      "with key= 45, letter becomes F\n",
      "with key= 46, letter becomes I\n",
      "with key= 47, letter becomes L\n",
      "with key= 48, letter becomes O\n",
      "with key= 49, letter becomes R\n",
      "with key= 50, letter becomes U\n",
      "with key= 51, letter becomes X\n"
     ]
    }
   ],
   "source": [
    "i_p = 0\n",
    "letter = ALPHABET[i_p]\n",
    "print(f\"plaintext letter is {letter}\")\n",
    "for k in range(52):\n",
    "    i_c = (i_p + 3*k)%26\n",
    "    print(f\"with key= {k}, letter becomes {ALPHABET[i_c]}\")\n",
    "\n",
    "    \n"
   ]
  }
 ],
 "metadata": {
  "kernelspec": {
   "display_name": "Python 3",
   "language": "python",
   "name": "python3"
  },
  "language_info": {
   "codemirror_mode": {
    "name": "ipython",
    "version": 3
   },
   "file_extension": ".py",
   "mimetype": "text/x-python",
   "name": "python",
   "nbconvert_exporter": "python",
   "pygments_lexer": "ipython3",
   "version": "3.10.0"
  },
  "orig_nbformat": 4,
  "vscode": {
   "interpreter": {
    "hash": "26de051ba29f2982a8de78e945f0abaf191376122a1563185a90213a26c5da77"
   }
  }
 },
 "nbformat": 4,
 "nbformat_minor": 2
}
