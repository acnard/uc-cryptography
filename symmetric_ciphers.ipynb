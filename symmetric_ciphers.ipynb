{
 "cells": [
  {
   "cell_type": "code",
   "execution_count": 1,
   "metadata": {},
   "outputs": [],
   "source": [
    "ALPHABET = list(\"ABCDEFGHIJKLMNOPQRSTUVWXYZ\")\n",
    "def caesar(text, k):\n",
    "    \"\"\"\n",
    "    text is a string, the message to encrypt or decrypt\n",
    "    k is an int, the shift (can be positive or negative)\n",
    "    \"\"\"\n",
    "\n",
    "    text = text.upper()\n",
    "    k = k%26\n",
    "\n",
    "    print(f\"the text is {text}\")\n",
    "    print(f\"the shift is {k}\")\n",
    "\n",
    "    result = \"\"\n",
    "    for c in text:\n",
    "        i = ALPHABET.index(c) + k\n",
    "        i = i%26\n",
    "\n",
    "        result = result + ALPHABET[i]\n",
    "\n",
    "    return result\n"
   ]
  },
  {
   "cell_type": "code",
   "execution_count": 2,
   "metadata": {},
   "outputs": [
    {
     "name": "stdout",
     "output_type": "stream",
     "text": [
      "the text is QNGWFWD\n",
      "the shift is 21\n"
     ]
    },
    {
     "data": {
      "text/plain": [
       "'LIBRARY'"
      ]
     },
     "execution_count": 2,
     "metadata": {},
     "output_type": "execute_result"
    }
   ],
   "source": [
    "caesar(\"QNGWFWD\", -5)"
   ]
  },
  {
   "cell_type": "code",
   "execution_count": null,
   "metadata": {},
   "outputs": [],
   "source": []
  }
 ],
 "metadata": {
  "kernelspec": {
   "display_name": "Python 3",
   "language": "python",
   "name": "python3"
  },
  "language_info": {
   "codemirror_mode": {
    "name": "ipython",
    "version": 3
   },
   "file_extension": ".py",
   "mimetype": "text/x-python",
   "name": "python",
   "nbconvert_exporter": "python",
   "pygments_lexer": "ipython3",
   "version": "3.10.0"
  },
  "orig_nbformat": 4,
  "vscode": {
   "interpreter": {
    "hash": "26de051ba29f2982a8de78e945f0abaf191376122a1563185a90213a26c5da77"
   }
  }
 },
 "nbformat": 4,
 "nbformat_minor": 2
}
