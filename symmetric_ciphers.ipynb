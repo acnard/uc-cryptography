{
 "cells": [
  {
   "cell_type": "code",
   "execution_count": 1,
   "metadata": {},
   "outputs": [],
   "source": [
    "ALPHABET = \"ABCDEFGHIJKLMNOPQRSTUVWXYZ\""
   ]
  },
  {
   "cell_type": "code",
   "execution_count": 2,
   "metadata": {},
   "outputs": [],
   "source": [
    "## Caesar cypher, cyclically shift each letter by an amount k, specified by the key\n",
    "## c = (p + k)mod 26   to encrypt (right shift)\n",
    "## p = (c - k)mod 26   to decrypt (left shift)\n",
    "## \n",
    "## there are only 26 possible distinct keys (from 0 to 25), this count includes the key that maps\n",
    "## each letter onto itself, with a zero shift\n",
    "def caesar(text, k):\n",
    "    \"\"\"\n",
    "    text is a string, the message to encrypt or decrypt\n",
    "    k is an int, the shift (can be positive or negative)\n",
    "    \"\"\"\n",
    "\n",
    "    text = text.upper()\n",
    "    k = k%26\n",
    "\n",
    "    print(f\"the text is {text}\")\n",
    "    print(f\"the shift is {k}\")\n",
    "\n",
    "    result = \"\"\n",
    "    for c in text:\n",
    "        i = ALPHABET.index(c) + k\n",
    "        i = i%26\n",
    "\n",
    "        result = result + ALPHABET[i]\n",
    "\n",
    "    return result\n"
   ]
  },
  {
   "cell_type": "code",
   "execution_count": 18,
   "metadata": {},
   "outputs": [
    {
     "name": "stdout",
     "output_type": "stream",
     "text": [
      "the text is QNGWFWD\n",
      "the shift is 21\n"
     ]
    },
    {
     "data": {
      "text/plain": [
       "'LIBRARY'"
      ]
     },
     "execution_count": 18,
     "metadata": {},
     "output_type": "execute_result"
    }
   ],
   "source": [
    "caesar(\"QNGWFWD\", -5)"
   ]
  },
  {
   "cell_type": "code",
   "execution_count": 5,
   "metadata": {},
   "outputs": [],
   "source": [
    "## monoalphabetic cypher: key is a permutation of alphabet, eg DKVQFIBJWPESCXHTMYAUOLRGZN \n",
    "## now there are 26! possible keys\n",
    "## but the frequency distribution of english is retained\n",
    "## \n",
    "\n",
    "def monoalphabetic(text, encrypt=True, KEY=\"DKVQFIBJWPESCXHTMYAUOLRGZN\"):\n",
    "    \"\"\"\n",
    "    text is a string, the message to encrypt, \n",
    "    KEY is a 26-character uppercase string, permutations of the ALPHABET\n",
    "\n",
    "    encrypt is true if you want to encrypt, otherwise False\n",
    "    \n",
    "    \"\"\"\n",
    "\n",
    "    text = text.upper()\n",
    "    print(f\"the text is {text}\")\n",
    "\n",
    "    source_KEY = ALPHABET\n",
    "    target_KEY = KEY\n",
    "\n",
    "    ## invert the keys if you want to decrypt\n",
    "    if encrypt==False:\n",
    "        source_KEY, target_KEY = target_KEY, source_KEY \n",
    "\n",
    "    print(f\"the KEY mappings are:\\n{source_KEY}\\n{target_KEY}\")\n",
    "\n",
    "    result = \"\"\n",
    "    for c in text:\n",
    "        i = source_KEY.index(c) \n",
    "\n",
    "        result = result + target_KEY[i]\n",
    "\n",
    "    return result"
   ]
  },
  {
   "cell_type": "code",
   "execution_count": 7,
   "metadata": {},
   "outputs": [
    {
     "name": "stdout",
     "output_type": "stream",
     "text": [
      "the text is AOVVFAA\n",
      "the KEY mappings are is:\n",
      "DKVQFIBJWPESCXHTMYAUOLRGZN\n",
      "ABCDEFGHIJKLMNOPQRSTUVWXYZ\n"
     ]
    },
    {
     "data": {
      "text/plain": [
       "'SUCCESS'"
      ]
     },
     "execution_count": 7,
     "metadata": {},
     "output_type": "execute_result"
    }
   ],
   "source": [
    "monoalphabetic(\"AOVVFAA\", encrypt=False)\n",
    "\n",
    "#monoalphabetic(\"jfssh\", source_KEY=\"DKVQFIBJWPESCXHTMYAUOLRGZN\", target_KEY=ALPHABET )"
   ]
  },
  {
   "cell_type": "code",
   "execution_count": 20,
   "metadata": {},
   "outputs": [],
   "source": [
    "def vigenere(text, KEY, encrypt=True):\n",
    "    \"\"\"\n",
    "    text is a string, the message we want to encrypt\n",
    "    KEY is a string of upper case letters representing the vigenere key \n",
    "    \n",
    "    \"\"\"\n",
    "    text = text.upper()\n",
    "    print(f\"the text is {text}\")\n",
    "    print(f\"the KEY is {KEY}\")\n",
    "    \n",
    "    ## convert KEY to a list of shifts\n",
    "    shifts = []\n",
    "    for c in KEY:\n",
    "        shifts.append(ALPHABET.index(c))   #nb index here works because ALPHABET does not repeat letters\n",
    "\n",
    "    keylen = len(shifts)\n",
    "\n",
    "    print(f\"the shifts are {shifts}\")\n",
    "    \n",
    "    ## now encrypt/decrypt text with this KEY\n",
    "    result = \"\"\n",
    "\n",
    "    for i in range(len(text)):\n",
    "        \n",
    "        shift = shifts[i%keylen]         # cyclically get the shift we want to apply to the ith character in the string\n",
    "\n",
    "        if not encrypt:\n",
    "            shift = -shift               # invert shift if decrypting\n",
    "        \n",
    "        c = text[i]             #get ith char in the string\n",
    "        j = ALPHABET.index(c)   #retrieve its index in alphabet\n",
    "        j_new = (j+shift)%26    # apply the shift\n",
    "        result = result + ALPHABET[j_new]\n",
    "    \n",
    "    return result\n"
   ]
  },
  {
   "cell_type": "code",
   "execution_count": 24,
   "metadata": {},
   "outputs": [
    {
     "name": "stdout",
     "output_type": "stream",
     "text": [
      "the text is DRAGON\n",
      "the KEY is XO\n",
      "the shifts are [23, 14]\n"
     ]
    },
    {
     "data": {
      "text/plain": [
       "'AFXULB'"
      ]
     },
     "execution_count": 24,
     "metadata": {},
     "output_type": "execute_result"
    }
   ],
   "source": [
    "vigenere(\"DRAGON\", KEY=\"XO\")\n",
    "\n",
    "    \n"
   ]
  },
  {
   "cell_type": "code",
   "execution_count": 20,
   "metadata": {},
   "outputs": [],
   "source": [
    "def railfence(text, n):\n",
    "    \"\"\"\n",
    "    text is a string, the message we want to encrypt,\n",
    "    n an int, the number of rows for the railfence\n",
    "\n",
    "    nb the letters must be placed in n rows going diagonally up and down \n",
    "    eg, for n=3, the row placements are\n",
    "    0121 0121 0121 ....\n",
    "\n",
    "    for n=5 the row placements are: \n",
    "    01234321 01234321 01234321...\n",
    "\n",
    "    the pattern repeats every 2n-2 row placements\n",
    "    \"\"\"\n",
    "    pattern = [i for i in range(n)] + [i for i in range(n-2, 0, -1)]  #count up from 0 to n-1 and back down from n-2 to 1\n",
    "\n",
    "    print(pattern)\n",
    "\n",
    "    rows = [\"\"]*n      # a list of n strings, where we compile the rows\n",
    "\n",
    "    for i in range(len(text)):\n",
    "        r = pattern[ i%len(pattern) ]        # row where this letter should be appended\n",
    "        rows[r] = rows[r] + text[i]\n",
    "\n",
    "    result = \"\".join(rows)\n",
    "    print(rows)\n",
    "    print(result)\n",
    "    \n"
   ]
  },
  {
   "cell_type": "code",
   "execution_count": 22,
   "metadata": {},
   "outputs": [
    {
     "name": "stdout",
     "output_type": "stream",
     "text": [
      "[0, 1, 2, 1]\n",
      "['MMT', 'ETEAE', 'ELR']\n",
      "MMTETEAEELR\n"
     ]
    }
   ],
   "source": [
    "railfence(\"MEETMELATER\", 3)"
   ]
  },
  {
   "cell_type": "code",
   "execution_count": 12,
   "metadata": {},
   "outputs": [
    {
     "name": "stdout",
     "output_type": "stream",
     "text": [
      "[0, 1]\n"
     ]
    }
   ],
   "source": [
    "n =2\n",
    "pattern = [i for i in range(n)] + [i for i in range(n-2, 0, -1)]\n",
    "print(pattern)"
   ]
  }
 ],
 "metadata": {
  "kernelspec": {
   "display_name": "Python 3",
   "language": "python",
   "name": "python3"
  },
  "language_info": {
   "codemirror_mode": {
    "name": "ipython",
    "version": 3
   },
   "file_extension": ".py",
   "mimetype": "text/x-python",
   "name": "python",
   "nbconvert_exporter": "python",
   "pygments_lexer": "ipython3",
   "version": "3.8.12"
  },
  "orig_nbformat": 4,
  "vscode": {
   "interpreter": {
    "hash": "26de051ba29f2982a8de78e945f0abaf191376122a1563185a90213a26c5da77"
   }
  }
 },
 "nbformat": 4,
 "nbformat_minor": 2
}
