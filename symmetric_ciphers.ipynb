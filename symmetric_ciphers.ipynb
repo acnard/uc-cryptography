{
 "cells": [
  {
   "cell_type": "code",
   "execution_count": 1,
   "metadata": {},
   "outputs": [],
   "source": [
    "ALPHABET = \"ABCDEFGHIJKLMNOPQRSTUVWXYZ\""
   ]
  },
  {
   "cell_type": "code",
   "execution_count": 2,
   "metadata": {},
   "outputs": [],
   "source": [
    "## Caesar cypher, cyclically shift each letter by an amount k, specified by the key\n",
    "## c = (p + k)mod 26   to encrypt (right shift)\n",
    "## p = (c - k)mod 26   to decrypt (left shift)\n",
    "## \n",
    "## there are only 26 possible distinct keys (from 0 to 25), this count includes the key that maps\n",
    "## each letter onto itself, with a zero shift\n",
    "def caesar(text, k):\n",
    "    \"\"\"\n",
    "    text is a string, the message to encrypt or decrypt\n",
    "    k is an int, the shift (can be positive or negative)\n",
    "    \"\"\"\n",
    "\n",
    "    text = text.upper()\n",
    "    k = k%26\n",
    "\n",
    "    print(f\"the text is {text}\")\n",
    "    print(f\"the shift is {k}\")\n",
    "\n",
    "    result = \"\"\n",
    "    for c in text:\n",
    "        i = ALPHABET.index(c) + k\n",
    "        i = i%26\n",
    "\n",
    "        result = result + ALPHABET[i]\n",
    "\n",
    "    return result\n"
   ]
  },
  {
   "cell_type": "code",
   "execution_count": 3,
   "metadata": {},
   "outputs": [
    {
     "name": "stdout",
     "output_type": "stream",
     "text": [
      "the text is MEETMELATER\n",
      "the shift is 23\n"
     ]
    },
    {
     "data": {
      "text/plain": [
       "'JBBQJBIXQBO'"
      ]
     },
     "execution_count": 3,
     "metadata": {},
     "output_type": "execute_result"
    }
   ],
   "source": [
    "caesar(\"MEETMELATER\", 23)"
   ]
  },
  {
   "cell_type": "code",
   "execution_count": 4,
   "metadata": {},
   "outputs": [],
   "source": [
    "## monoalphabetic cypher: key is a permutation of alphabet, eg DKVQFIBJWPESCXHTMYAUOLRGZN \n",
    "## now there are 26! possible keys\n",
    "## but the frequency distribution of english is retained\n",
    "## \n",
    "\n",
    "def monoalphabetic(text, encrypt=True, KEY=\"DKVQFIBJWPESCXHTMYAUOLRGZN\"):\n",
    "    \"\"\"\n",
    "    text is a string, the message to encrypt, \n",
    "    KEY is a 26-character uppercase string, permutations of the ALPHABET\n",
    "\n",
    "    encrypt is true if you want to encrypt, otherwise False\n",
    "    \n",
    "    \"\"\"\n",
    "\n",
    "    text = text.upper()\n",
    "    print(f\"the text is {text}\")\n",
    "\n",
    "    source_KEY = ALPHABET\n",
    "    target_KEY = KEY\n",
    "\n",
    "    ## invert the keys if you want to decrypt\n",
    "    if encrypt==False:\n",
    "        source_KEY, target_KEY = target_KEY, source_KEY \n",
    "\n",
    "    print(f\"the KEY mappings are:\\n{source_KEY}\\n{target_KEY}\")\n",
    "\n",
    "    result = \"\"\n",
    "    for c in text:\n",
    "        i = source_KEY.index(c) \n",
    "\n",
    "        result = result + target_KEY[i]\n",
    "\n",
    "    return result"
   ]
  },
  {
   "cell_type": "code",
   "execution_count": 5,
   "metadata": {},
   "outputs": [
    {
     "name": "stdout",
     "output_type": "stream",
     "text": [
      "the text is AOVVFAA\n",
      "the KEY mappings are:\n",
      "DKVQFIBJWPESCXHTMYAUOLRGZN\n",
      "ABCDEFGHIJKLMNOPQRSTUVWXYZ\n"
     ]
    },
    {
     "data": {
      "text/plain": [
       "'SUCCESS'"
      ]
     },
     "execution_count": 5,
     "metadata": {},
     "output_type": "execute_result"
    }
   ],
   "source": [
    "monoalphabetic(\"AOVVFAA\", encrypt=False)\n",
    "\n",
    "#monoalphabetic(\"jfssh\", source_KEY=\"DKVQFIBJWPESCXHTMYAUOLRGZN\", target_KEY=ALPHABET )"
   ]
  },
  {
   "cell_type": "code",
   "execution_count": 6,
   "metadata": {},
   "outputs": [],
   "source": [
    "def vigenere(text, KEY, encrypt=True):\n",
    "    \"\"\"\n",
    "    text is a string, the message we want to encrypt\n",
    "    KEY is a string of upper case letters representing the vigenere key \n",
    "    \n",
    "    \"\"\"\n",
    "    text = text.upper()\n",
    "    print(f\"the text is {text}\")\n",
    "    print(f\"the KEY is {KEY}\")\n",
    "    \n",
    "    ## convert KEY to a list of shifts\n",
    "    shifts = []\n",
    "    for c in KEY:\n",
    "        shifts.append(ALPHABET.index(c))   #nb index here works because ALPHABET does not repeat letters\n",
    "\n",
    "    keylen = len(shifts)\n",
    "\n",
    "    print(f\"the shifts are {shifts}\")\n",
    "    \n",
    "    ## now encrypt/decrypt text with this KEY\n",
    "    result = \"\"\n",
    "\n",
    "    for i in range(len(text)):\n",
    "        \n",
    "        shift = shifts[i%keylen]         # cyclically get the shift we want to apply to the ith character in the string\n",
    "\n",
    "        if not encrypt:\n",
    "            shift = -shift               # invert shift if decrypting\n",
    "        \n",
    "        c = text[i]             #get ith char in the string\n",
    "        j = ALPHABET.index(c)   #retrieve its index in alphabet\n",
    "        j_new = (j+shift)%26    # apply the shift\n",
    "        result = result + ALPHABET[j_new]\n",
    "    \n",
    "    return result\n"
   ]
  },
  {
   "cell_type": "code",
   "execution_count": 7,
   "metadata": {},
   "outputs": [
    {
     "name": "stdout",
     "output_type": "stream",
     "text": [
      "the text is DRAGON\n",
      "the KEY is XO\n",
      "the shifts are [23, 14]\n"
     ]
    },
    {
     "data": {
      "text/plain": [
       "'AFXULB'"
      ]
     },
     "execution_count": 7,
     "metadata": {},
     "output_type": "execute_result"
    }
   ],
   "source": [
    "vigenere(\"DRAGON\", KEY=\"XO\")\n",
    "\n",
    "    \n"
   ]
  },
  {
   "cell_type": "code",
   "execution_count": 8,
   "metadata": {},
   "outputs": [],
   "source": [
    "def railfence(text, n):\n",
    "    \"\"\"\n",
    "    text is a string, the message we want to encrypt,\n",
    "    n an int, the number of rows for the railfence\n",
    "\n",
    "    nb the letters must be placed in n rows going diagonally up and down \n",
    "    eg, for n=3, the row placements are\n",
    "    0121 0121 0121 ....\n",
    "\n",
    "    for n=5 the row placements are: \n",
    "    01234321 01234321 01234321...\n",
    "\n",
    "    the pattern repeats every 2n-2 row placements\n",
    "    \"\"\"\n",
    "    pattern = [i for i in range(n)] + [i for i in range(n-2, 0, -1)]  #count up from 0 to n-1 and back down from n-2 to 1\n",
    "\n",
    "    print(pattern)\n",
    "\n",
    "    rows = [\"\"]*n      # a list of n strings, where we compile the rows\n",
    "\n",
    "    for i in range(len(text)):\n",
    "        r = pattern[ i%len(pattern) ]        # row where this letter should be appended\n",
    "        rows[r] = rows[r] + text[i]\n",
    "\n",
    "    result = \"\".join(rows)\n",
    "    print(rows)\n",
    "    print(result)\n",
    "    \n"
   ]
  },
  {
   "cell_type": "code",
   "execution_count": 9,
   "metadata": {},
   "outputs": [
    {
     "name": "stdout",
     "output_type": "stream",
     "text": [
      "[0, 1, 2, 1]\n",
      "['MMT', 'ETEAE', 'ELR']\n",
      "MMTETEAEELR\n"
     ]
    }
   ],
   "source": [
    "railfence(\"MEETMELATER\", 3)"
   ]
  },
  {
   "cell_type": "code",
   "execution_count": 10,
   "metadata": {},
   "outputs": [
    {
     "name": "stdout",
     "output_type": "stream",
     "text": [
      "[0, 1]\n"
     ]
    }
   ],
   "source": [
    "n =2\n",
    "pattern = [i for i in range(n)] + [i for i in range(n-2, 0, -1)]\n",
    "print(pattern)"
   ]
  },
  {
   "cell_type": "code",
   "execution_count": 20,
   "metadata": {},
   "outputs": [],
   "source": [
    "import math\n",
    "import numpy as np\n",
    "def permutation(text, KEY):\n",
    "    \"\"\"\n",
    "    text is a string, the message we want to encrypt\n",
    "    KEY is a list of ints from 1 to len(KEY), eg [4, 2, 1, 3]\n",
    "\n",
    "    we write out the text horizontally in a matrix of len(KEY) columns \n",
    "    then for the ciphertext take the colummns in the order specified by the KEY (after zero indexing it)\n",
    "\n",
    "    eg for \"MEETMELATER\" and the above key of length 4:\n",
    "  \n",
    "     M E E T\n",
    "     M E L A\n",
    "     T E R \n",
    "    [3 1 0 2] = reordering specified by the key, the number below each column says its position in the sequence\n",
    "\n",
    "    eg for this ciphertext the column corresponding to 0 (\"ELR\") goes first, then the one corresponding to 1 (MMT), etc\n",
    "      ELREEETAMMT\n",
    "\n",
    "    \"\"\"\n",
    "    n = len(KEY)                  # key length\n",
    "                   \n",
    "    print(f\"the key is {KEY}, of length {n}\")\n",
    "    print(f\"the plaintext is {text}\")\n",
    "\n",
    "\n",
    "    # adjust KEY so it is zero-indexed\n",
    "    KEY = [val-1 for val in KEY]\n",
    "    print(f\"the zero-indexed KEY is {KEY}\")\n",
    "\n",
    "    # determine how much padding to add:\n",
    "    # find remainder of division of text length by n\n",
    "    # if nonzero pad with n - this amount\n",
    "    pad = len(text)%n\n",
    "    if pad != 0:\n",
    "        text = text + \"*\"*(n-pad)\n",
    "\n",
    "    print(text)\n",
    "\n",
    "    mtrx = np.array( list(text) )\n",
    "    print(mtrx)\n",
    "\n",
    "    mtrx = mtrx.reshape(-1, n)   #reshape to however many number of rows x n columns\n",
    "    print(\"\\n key and original message matrix: \")\n",
    "    print(KEY)\n",
    "    print(mtrx)\n",
    "\n",
    "    # construct the ciphertext by taking the columns in order\n",
    "\n",
    "    cipher = \"\"\n",
    "    print(\"ciphertext is\")\n",
    "    for i in range(n):           # go in order from 0 to n-1\n",
    "        col = KEY.index(i)       # 0-indexed position in KEY of this ival\n",
    "        letters = mtrx[:,col]    # retrieve list of letters at this column\n",
    "        print(letters)\n",
    "        cipher = cipher + \"\".join(letters)\n",
    "\n",
    "    print(cipher)  \n",
    "    ## THE BELOW COMMENTED CODE DOESN'T WORK, IT APPLIES A DIFFERENT\n",
    "    ## LOGIC TO REORDER THE COLUMNS BASED ON THE KEY\n",
    "    # # now rearrange the columns according to KEY\n",
    "    # mtrx2 = mtrx[:,KEY]\n",
    "\n",
    "    # print(f\"\\nwith reordered columns matrix is:\")\n",
    "    # print(mtrx2)\n",
    "\n",
    "    # # now transpose to swop rows and columns\n",
    "    # mtrx3 = mtrx2.transpose()\n",
    "    # print(f\"transposed is\")\n",
    "    # print(mtrx3)\n",
    "\n",
    "    # # reshape to one row\n",
    "    # cipher = mtrx3.reshape(1, -1)\n",
    "\n",
    "    # print(f\"\\nreshaped to one row:\")\n",
    "    # print(cipher)\n",
    "    # # change to list\n",
    "    # cipher = cipher.tolist()\n",
    "    # print(cipher[0])   #to get rid of nested outer list\n",
    "    # s = \"\".join(cipher[0])\n",
    "    # print(s)\n",
    "\n",
    "    "
   ]
  },
  {
   "cell_type": "code",
   "execution_count": 21,
   "metadata": {},
   "outputs": [
    {
     "name": "stdout",
     "output_type": "stream",
     "text": [
      "the key is [2, 3, 5, 4, 1], of length 5\n",
      "the plaintext is MEETMELATER\n",
      "the zero-indexed KEY is [1, 2, 4, 3, 0]\n",
      "MEETMELATER****\n",
      "['M' 'E' 'E' 'T' 'M' 'E' 'L' 'A' 'T' 'E' 'R' '*' '*' '*' '*']\n",
      "\n",
      " key and original message matrix: \n",
      "[1, 2, 4, 3, 0]\n",
      "[['M' 'E' 'E' 'T' 'M']\n",
      " ['E' 'L' 'A' 'T' 'E']\n",
      " ['R' '*' '*' '*' '*']]\n",
      "ciphertext is\n",
      "['M' 'E' '*']\n",
      "['M' 'E' 'R']\n",
      "['E' 'L' '*']\n",
      "['T' 'T' '*']\n",
      "['E' 'A' '*']\n",
      "ME*MEREL*TT*EA*\n"
     ]
    }
   ],
   "source": [
    "permutation(\"MEETMELATER\", [2,3,5,4,1])"
   ]
  },
  {
   "cell_type": "code",
   "execution_count": 22,
   "metadata": {},
   "outputs": [
    {
     "name": "stdout",
     "output_type": "stream",
     "text": [
      "the text is MEETMELATER\n",
      "the shift is 23\n",
      "text after ceaesar is JBBQJBIXQBO\n",
      "the key is [5, 3, 1, 4, 2], of length 5\n",
      "the plaintext is JBBQJBIXQBO\n",
      "the zero-indexed KEY is [4, 2, 0, 3, 1]\n",
      "JBBQJBIXQBO****\n",
      "['J' 'B' 'B' 'Q' 'J' 'B' 'I' 'X' 'Q' 'B' 'O' '*' '*' '*' '*']\n",
      "\n",
      " key and original message matrix: \n",
      "[4, 2, 0, 3, 1]\n",
      "[['J' 'B' 'B' 'Q' 'J']\n",
      " ['B' 'I' 'X' 'Q' 'B']\n",
      " ['O' '*' '*' '*' '*']]\n",
      "ciphertext is\n",
      "['B' 'X' '*']\n",
      "['J' 'B' '*']\n",
      "['B' 'I' '*']\n",
      "['Q' 'Q' '*']\n",
      "['J' 'B' 'O']\n",
      "BX*JB*BI*QQ*JBO\n"
     ]
    }
   ],
   "source": [
    "text1 = caesar(\"MEETMELATER\", 23)\n",
    "print(f\"text after ceaesar is {text1}\")\n",
    "\n",
    "text2 = permutation(text1, [5, 3, 1, 4, 2])\n"
   ]
  },
  {
   "cell_type": "code",
   "execution_count": 15,
   "metadata": {},
   "outputs": [
    {
     "name": "stdout",
     "output_type": "stream",
     "text": [
      "the text is JBBQJBIXQBO\n",
      "the shift is 3\n"
     ]
    },
    {
     "data": {
      "text/plain": [
       "'MEETMELATER'"
      ]
     },
     "execution_count": 15,
     "metadata": {},
     "output_type": "execute_result"
    }
   ],
   "source": [
    "caesar(\"JBBQJBIXQBO\", -23)"
   ]
  }
 ],
 "metadata": {
  "kernelspec": {
   "display_name": "Python 3",
   "language": "python",
   "name": "python3"
  },
  "language_info": {
   "codemirror_mode": {
    "name": "ipython",
    "version": 3
   },
   "file_extension": ".py",
   "mimetype": "text/x-python",
   "name": "python",
   "nbconvert_exporter": "python",
   "pygments_lexer": "ipython3",
   "version": "3.10.0"
  },
  "orig_nbformat": 4,
  "vscode": {
   "interpreter": {
    "hash": "26de051ba29f2982a8de78e945f0abaf191376122a1563185a90213a26c5da77"
   }
  }
 },
 "nbformat": 4,
 "nbformat_minor": 2
}
