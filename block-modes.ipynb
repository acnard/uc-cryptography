{
 "cells": [
  {
   "cell_type": "markdown",
   "metadata": {},
   "source": [
    "# Block Cipher Operation Modes"
   ]
  },
  {
   "cell_type": "markdown",
   "metadata": {},
   "source": [
    "## data and constants\n",
    "\n",
    "for the plaintext we will use a 16-bit long number between 0x0000 and 0xFFFF\n",
    "for the block size b we will use 4 so that we don't have to worry about padding for now"
   ]
  },
  {
   "cell_type": "code",
   "execution_count": 134,
   "metadata": {},
   "outputs": [
    {
     "name": "stdout",
     "output_type": "stream",
     "text": [
      "plaintext is:\n",
      "0x9353\n",
      "0b1001001101010011\n",
      "\n",
      "key is:\n",
      "0x4\n"
     ]
    }
   ],
   "source": [
    "import random\n",
    "\n",
    "plaintext = random.randint(0x0000, 0xffff)\n",
    "\n",
    "print(\"plaintext is:\")\n",
    "print(hex(plaintext)) \n",
    "print(bin(plaintext))\n",
    "\n",
    "key = random.randint(0x0, 0xf)\n",
    "\n",
    "print(\"\\nkey is:\")\n",
    "print(hex(key))\n",
    "\n"
   ]
  },
  {
   "cell_type": "markdown",
   "metadata": {},
   "source": [
    "## common helper functions"
   ]
  },
  {
   "cell_type": "code",
   "execution_count": 124,
   "metadata": {},
   "outputs": [
    {
     "name": "stdout",
     "output_type": "stream",
     "text": [
      "hexadecimal is 0xb6c2\n"
     ]
    },
    {
     "data": {
      "text/plain": [
       "[11, 6, 12, 2]"
      ]
     },
     "execution_count": 124,
     "metadata": {},
     "output_type": "execute_result"
    }
   ],
   "source": [
    "## split up a hexadecimal number into its hex digits\n",
    "\n",
    "def hex_digits(hexval):\n",
    "    \"\"\"\n",
    "    hexval is a hexadecimal value, eg 0xabcd\n",
    "    returns a list of its digit values, from most to least siginficant, \n",
    "    eg [0xa, 0xb, 0xc, 0xd]\n",
    "    \"\"\"\n",
    "    hexdigits = []\n",
    "    print(f\"hexadecimal is {hex(hexval)}\")\n",
    "\n",
    "    hexstring = hex(hexval)[2:]\n",
    "    #print(f\"the corresponding hexstring is {hexstring}\")\n",
    "\n",
    "    for c in hexstring:\n",
    "        hexdigits.append(int(c, 16))\n",
    "\n",
    "    return hexdigits\n",
    "    \n",
    "\n",
    "\n",
    "\n",
    "## test the function\n",
    "\n",
    "hex_digits(plaintext)\n"
   ]
  },
  {
   "cell_type": "code",
   "execution_count": 121,
   "metadata": {},
   "outputs": [
    {
     "name": "stdout",
     "output_type": "stream",
     "text": [
      "initial value is 46786\n",
      "hexval to split is 0xb6c2\n",
      "the corresponding hexstring is b6c2\n",
      "the input blocks are [11, 6, 12, 2]\n",
      "the resulting hexdigits are ['b', '6', 'c', '2']\n",
      "the resulting hexstring is 0xb6c2\n",
      "the corresponding value is 46786\n"
     ]
    },
    {
     "data": {
      "text/plain": [
       "46786"
      ]
     },
     "execution_count": 121,
     "metadata": {},
     "output_type": "execute_result"
    }
   ],
   "source": [
    "##\n",
    "\n",
    "def blocks_to_val(blocks):\n",
    "    \"\"\"\n",
    "    blocks is a list of values each between 0x0 and 0xf\n",
    "    from most significant hex digit to least significant hex digit\n",
    "    returns the corresponding value of the whole number\n",
    "\n",
    "    eg blocks = [10, 3, 1]\n",
    "    return value is 0xa31\n",
    "    \"\"\"\n",
    "\n",
    "    print(f\"the input blocks are {blocks}\")\n",
    "\n",
    "    hexdigits = [hex(val)[2:] for val in blocks]\n",
    "\n",
    "    print(f\"the resulting hexdigits are {hexdigits}\")\n",
    "\n",
    "    hexstring = \"0x\" + \"\".join(hexdigits)\n",
    "\n",
    "    print(f\"the resulting hexstring is {hexstring}\")\n",
    "\n",
    "    hexval = int(hexstring, 16)\n",
    "    print(f\"the corresponding value is {hexval}\")\n",
    "\n",
    "    return hexval\n",
    "\n",
    "\n",
    "\n",
    "\n",
    "## test the function\n",
    "print(f\"initial value is {plaintext}\")\n",
    "blocks_to_val(hex_digits(plaintext))\n"
   ]
  },
  {
   "cell_type": "markdown",
   "metadata": {},
   "source": [
    "## Electronic Codebook (ECB)\n",
    "In this one you break up the plaintext into blocks of length 4 and apply the key K to each block.\n",
    "Susceptible to attach for large numbers of blocks or repetitive plaintext"
   ]
  },
  {
   "cell_type": "code",
   "execution_count": 111,
   "metadata": {},
   "outputs": [
    {
     "name": "stdout",
     "output_type": "stream",
     "text": [
      "plaintext is:\n",
      "0x4010\n",
      "\n",
      "key is:\n",
      "0xb\n",
      "hexval to split is 0x4010\n",
      "the corresponding hexstring is 4010\n",
      "digits to xor with key are [4, 0, 1, 0]\n",
      "output digits are [15, 11, 10, 11]\n",
      "output of xoring with key again is [4, 0, 1, 0]\n",
      "modified input digits are [10, 0, 1, 0]\n",
      "modified output digits are [1, 11, 10, 11]\n"
     ]
    }
   ],
   "source": [
    "#ECB functions\n",
    "def ECB_encrypt(p, k):\n",
    "    \"\"\"\n",
    "    p is a number that represents the plaintext \n",
    "    k is a key between 0x0 and 0xf\n",
    "    (because the block size is assumed to be = 4 bits)\n",
    "    \"\"\"\n",
    "\n",
    "    print(\"plaintext is:\")\n",
    "    print(hex(p)) \n",
    "\n",
    "    print(\"\\nkey is:\")\n",
    "    print(hex(k))\n",
    "\n",
    "    ## convert to list of hex digits\n",
    "    inp_digits = hex_digits(p)\n",
    "\n",
    "    print(f\"digits to xor with key are {inp_digits}\")\n",
    " \n",
    "    ## xor each digit with the key\n",
    "    outp_digits = [d^k for d in inp_digits]\n",
    "\n",
    "    print(f\"output digits are {outp_digits}\")\n",
    "\n",
    "    ## check if xoring with the key again gives back initial plaintext\n",
    "\n",
    "    re_output = [d^k for d in outp_digits]\n",
    "    print(f\"output of xoring with key again is {re_output}\")\n",
    "\n",
    "    ## check the effect of modifying only one block\n",
    "    inp_digits[0] = 0xa\n",
    "\n",
    "    print(f\"modified input digits are {inp_digits}\")\n",
    "    ## xor each digit with the key\n",
    "    outp_digits = [d^k for d in inp_digits]\n",
    "\n",
    "    print(f\"modified output digits are {outp_digits}\")\n",
    "\n",
    "## test the function\n",
    "\n",
    "ECB_encrypt(plaintext, key)\n",
    "\n",
    "    \n",
    "\n"
   ]
  },
  {
   "cell_type": "markdown",
   "metadata": {},
   "source": [
    "## Cipher Block Chaining (CBC)\n",
    "\n",
    "the blocks are P1, P2, P3, P4... \n",
    "\n",
    "IV is an initialization value of same length as the blocks\n",
    "\n",
    "C1 = (P1 XOR IV) then encrypt result with key K\n",
    "\n",
    "C2 = (P2 XOR C1) then encrypt result with key K\n",
    "\n",
    "C3 = (P3 COR C3) then encrypt result with key K\n",
    "\n",
    "... etc\n",
    "\n",
    "the effect is that changing the data in any one block will affect all the subsequent blocks\n",
    "\n"
   ]
  },
  {
   "cell_type": "code",
   "execution_count": 140,
   "metadata": {},
   "outputs": [
    {
     "name": "stdout",
     "output_type": "stream",
     "text": [
      "the starting value is 37715\n",
      "hexadecimal is 0x9353\n",
      "the blocks are [9, 3, 5, 3]\n",
      "block 9 encrypted to 13\n",
      "block 3 encrypted to 10\n",
      "block 5 encrypted to 11\n",
      "block 3 encrypted to 12\n",
      "the encrypted blocks are [13, 10, 11, 12]\n",
      "\n",
      " Now test the effect of modifying least significant block:\n",
      "\n",
      "the modified starting value is 37716\n",
      "hexadecimal is 0x9354\n",
      "the blocks are [9, 3, 5, 4]\n",
      "block 9 encrypted to 13\n",
      "block 3 encrypted to 10\n",
      "block 5 encrypted to 11\n",
      "block 4 encrypted to 11\n",
      "the encrypted blocks are [13, 10, 11, 11]\n",
      "\n",
      " Now test the effect of modifying more significant block:\n",
      "\n",
      "the modified starting value is 33619\n",
      "hexadecimal is 0x8353\n",
      "the blocks are [8, 3, 5, 3]\n",
      "block 8 encrypted to 12\n",
      "block 3 encrypted to 11\n",
      "block 5 encrypted to 10\n",
      "block 3 encrypted to 13\n",
      "the encrypted blocks are [12, 11, 10, 13]\n"
     ]
    }
   ],
   "source": [
    "## here for simplicity the encryption function is just an XOR\n",
    "\n",
    "IV = random.randint(0x0, 0xf)\n",
    "\n",
    "def CBC_encrypt(p, k):\n",
    "    \"\"\"\n",
    "    p is a number that represents the plaintext\n",
    "    k is a key between 0x0 and 0xf\n",
    "    \"\"\"\n",
    "\n",
    "\n",
    "    ## get the blocks as a list of values, each between 0x0 and 0xf\n",
    "    blocks = hex_digits(p)\n",
    "    output = []\n",
    "\n",
    "    print(f\"the blocks are {blocks}\")\n",
    "\n",
    "    previous = IV\n",
    "    for block in blocks:\n",
    "        c = ( (block^previous) ^ k )\n",
    "        print(f\"block {block} encrypted to {c}\")\n",
    "        output.append(c)\n",
    "        previous = c\n",
    "\n",
    "    print(f\"the encrypted blocks are {output}\")\n",
    "\n",
    "\n",
    "\n",
    "## test the function\n",
    "print(f\"the starting value is {plaintext}\")\n",
    "CBC_encrypt(plaintext, key)\n",
    "\n",
    "## test effect of modifying one block\n",
    "print(\"\\n Now test the effect of modifying least significant block:\\n\")\n",
    "p_mod = plaintext + 1\n",
    "print(f\"the modified starting value is {p_mod}\")\n",
    "CBC_encrypt(p_mod, key)\n",
    "\n",
    "print(\"\\n Now test the effect of modifying more significant block:\\n\")\n",
    "p_mod = plaintext & 0xefff\n",
    "print(f\"the modified starting value is {p_mod}\")\n",
    "CBC_encrypt(p_mod, key)\n",
    "\n",
    "\n",
    "    "
   ]
  },
  {
   "cell_type": "markdown",
   "metadata": {},
   "source": [
    "## Cipher Feedback (CFB)\n",
    "\n",
    "the encryption function Enc is used to generate random bits, and the output of it is XORED with the plaintext block.\n",
    "\n",
    "C1 = P1 XOR Enc(K, IV)\n",
    "\n",
    "C2 = P2 XOR Enc(K, C1)\n",
    "\n",
    "C3 = P3 XOR Enc(K, C2)\n",
    "\n",
    "and generally\n",
    "Cn = Pn XOR Enc(K, Cn-1)\n",
    "\n",
    "\n",
    "The decryption uses the *same* function Enc:\n",
    "\n",
    "P1 = C1 XOR Enc(K, IV)\n",
    "\n",
    "P2 = C2 XOR Enc(K, C1)\n",
    "\n",
    "Pn = Cn XOR Enc(K, Cn)\n",
    "\n"
   ]
  }
 ],
 "metadata": {
  "kernelspec": {
   "display_name": "Python 3",
   "language": "python",
   "name": "python3"
  },
  "language_info": {
   "codemirror_mode": {
    "name": "ipython",
    "version": 3
   },
   "file_extension": ".py",
   "mimetype": "text/x-python",
   "name": "python",
   "nbconvert_exporter": "python",
   "pygments_lexer": "ipython3",
   "version": "3.10.0"
  },
  "vscode": {
   "interpreter": {
    "hash": "26de051ba29f2982a8de78e945f0abaf191376122a1563185a90213a26c5da77"
   }
  }
 },
 "nbformat": 4,
 "nbformat_minor": 2
}
